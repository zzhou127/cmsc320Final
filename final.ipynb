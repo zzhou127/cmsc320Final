{
 "cells": [
  {
   "cell_type": "markdown",
   "id": "0b963d51",
   "metadata": {},
   "source": [
    "# Determine If a laptop is a deal\n",
    "Laptops have many componets to them like the hardware, build quality, etc. Determining if a laptop is worth buying is difficult do to the numoerous details. This project will analyze the performance of a laptop to determine if it is worth buying."
   ]
  },
  {
   "cell_type": "code",
   "execution_count": 1,
   "id": "d3b73175",
   "metadata": {},
   "outputs": [],
   "source": [
    "from time import sleep\n",
    "import re, requests, json\n",
    "import pandas as pd, numpy as np, matplotlib.pyplot as plt\n",
    "from sklearn.linear_model import LinearRegression\n",
    "import statsmodels.api as sm\n",
    "\n",
    "plt.rcParams['figure.figsize'] = [20, 10]"
   ]
  },
  {
   "cell_type": "markdown",
   "id": "674d2214",
   "metadata": {},
   "source": [
    "# Webscrapping\n"
   ]
  },
  {
   "cell_type": "markdown",
   "id": "4d928c0a",
   "metadata": {},
   "source": []
  },
  {
   "cell_type": "markdown",
   "id": "81310b60",
   "metadata": {},
   "source": [
    "Bestbuy is one of the largest retail and online store that sells laptops (and other products). At the time of creating a dataset of laptop price and their specs, bestbuy had 911 different laptops in on their site. They have a API to access this data, and the API key is obtain by singing in a bestbuy account or singing up for besbuy developers."
   ]
  },
  {
   "cell_type": "markdown",
   "id": "fdacd4f5",
   "metadata": {},
   "source": [
    "The dataset created with bestbuy's API contains the price, product details, and value. The price is determine by the current cost of the laptop plus shipping fees. There are many details about a product and some products are missing some or none of the detail. Handling missing data will be explained when managing the data. The dataset contains other information like ratings but they aren't discussed due to lack of time."
   ]
  },
  {
   "cell_type": "markdown",
   "id": "f04b153d",
   "metadata": {},
   "source": [
    "there are 3 types of storage, emmc, ssd, hdd. Emmc memory is storage thats a flash chip (like a sd card), which is slower than ssd but usually has faster random access speeds than hdd. ssd is fastest amoung the 3. However this project discards this information, since the only instance emmc is used are on low end laptops. Which means laptops with emmc can be determined by the cpu (celeron and pentium). hdd are rarely seen in 2022 and buying such a laptop can be determined by 2 consideration: it has a hdd don't buy it or the buyer is knowledgable enough to disassemble a laptop and replace the hdd with a ssd."
   ]
  },
  {
   "cell_type": "markdown",
   "id": "181f912c",
   "metadata": {},
   "source": [
    "In details, bestbuy stores the laptop's spec, the most important are the cpu name, cpu model number, gpu name, ram(in GB), total storage(in GB). These information are parsed with the code below."
   ]
  },
  {
   "cell_type": "code",
   "execution_count": null,
   "id": "d42ccb1a",
   "metadata": {},
   "outputs": [],
   "source": [
    "#to keep the API private\n",
    "with open(\"bestbuyAPIKey.txt\", \"r\"):\n",
    "    bestbuyKey = f.read()\n",
    "\n",
    "'''\n",
    "apiKey: to access bestbuy's API\n",
    "sort: order the products are lists, irrelevant in this project.\n",
    "show: data being requests\n",
    "format: how the data is organized\n",
    "pageSize:\n",
    "  amount of products for 1 page, max per page is 100.\n",
    "  there can be multiple pages, in this case there are 10.\n",
    "cursorMark:\n",
    "  This is important when accessing large amounts of products\n",
    "  since bestbuy's API limits products per page to 100 and the amount of pages is not known.\n",
    "  cursorMark is a bookmark analogus to a real bookmark where it keeps track of the current page being request.\n",
    "  bestbuy's API gives a nextCursorMark for the next page.\n",
    "\n",
    "json1:\n",
    "  Initalize with a placeholder value.\n",
    "  Once bestbuy's API POST is received, json1 contains the parsed json data.\n",
    "  json1 contains the next cursorMark, price, products, and weight.\n",
    "  the field products stored in json1 is a list of products\n",
    "columns: columns of the dataset\n",
    "details:\n",
    "  1 product from the field products contains a key value pair {\"details\": <values>}\n",
    "  There are many values that are useless\n",
    "  so a tuple called details contains the list of all fields that are important\n",
    "labels: The shorten name for each name in details.\n",
    "products the running list of all recieved products\n",
    "'''\n",
    "params = {\n",
    "  \"apiKey\": bestbuyKey,\n",
    "  \"sort\": \"manufacturer.asc\",\n",
    "  \"show\": \"regularPrice,salePrice,shippingCost,customerReviewAverage,customerReviewCount,details.name,details.value,weight\",\n",
    "  \"format\": \"json\",\n",
    "  \"pageSize\": \"100\",\n",
    "  \"cursorMark\": \"*\"\n",
    "}\n",
    "json1 = {\"nextCursorMark\": \"*\"}\n",
    "columns = (\n",
    "  \"price\",\"msrp\",\"cpu\",\"cpuNum\",\"ram\",\"storage\",\"gpu\",\"screnSize\",\"Resolution\",\"os\",\"brand\",\"name\",\"weight\",\n",
    "  \"rating\",\"ratingLen\")\n",
    "details = (\n",
    "  \"Processor Model\",\"Processor Model Number\",\"System Memory (RAM)\",\"Total Storage Capacity\",\n",
    "  \"Graphics\",\"Screen Size\",\"Screen Resolution\",\"Operating System\",\"Brand\",\"Model Number\",\"Product Name\",\n",
    "  \"Product Weight\")\n",
    "labels = (\"cpu\",\"cpuNum\",\"ram\",\"storage\",\"gpu\",\"screnSize\",\"Resolution\",\"os\",\"brand\",\"name\",\"name\",\"weight\",)\n",
    "products = []"
   ]
  },
  {
   "cell_type": "code",
   "execution_count": null,
   "id": "47882c54",
   "metadata": {},
   "outputs": [],
   "source": [
    "'''\n",
    "This function parses 1 product.\n",
    "price = salePrice + shipping\n",
    "Bestbuy's API returns details in each product that isn't proper json, its a list of dict.\n",
    "Pandas Dataframe can parse this string thats a list of dict.\n",
    "The value are extract from the tuple details that contains all desired field names.\n",
    "The values are added to dict1 with the key from labels\n",
    "which contains the shorten names used in the dataset\n",
    "dict1 is return\n",
    "'''\n",
    "def parse(product):\n",
    "  df = pd.DataFrame(product[\"details\"])\n",
    "  name = df.name\n",
    "  dict1 = {}\n",
    "\n",
    "  if product[\"shippingCost\"] == \"\":\n",
    "    product[\"shippingCost\"] = 0\n",
    "  dict1[\"price\"] = int(product[\"salePrice\"]) + int(product[\"shippingCost\"])\n",
    "  dict1[\"msrp\"] = product[\"regularPrice\"]\n",
    "  dict1[\"rating\"] = product[\"customerReviewAverage\"]\n",
    "  dict1[\"ratingLen\"] = product[\"customerReviewCount\"]\n",
    "  for label, detail in zip(labels, details):\n",
    "    val = df[name == detail].value\n",
    "    if len(val) == 0:\n",
    "      dict1[label] = np.nan\n",
    "    else:\n",
    "      dict1[label] = val.iloc[0]\n",
    "  return dict1\n",
    "\n",
    "'''\n",
    "bestbuy api only allows 100 results per page,\n",
    "and there can be 100+ products.\n",
    "cursorMark tells bestbuy API to return the next page of products,\n",
    "and this is done until there are no more products left.\n",
    "'''\n",
    "while 1:\n",
    "  params[\"cursorMark\"] = json1[\"nextCursorMark\"]\n",
    "  res = requests.get(\n",
    "    \"https://api.bestbuy.com/v1/products((categoryPath.id=abcat0502000))\",\n",
    "    params=params\n",
    "  )\n",
    "  #contains metadata, and the data to analyze which is \"products\"\n",
    "  json1 = json.loads(res.text)\n",
    "  #no nextCursorMark means the last page is reached\n",
    "  if json1.get(\"nextCursorMark\") == None:\n",
    "    break\n",
    "  products.extend(json1[\"products\"])\n",
    "  #prevent getting timed out\n",
    "  sleep(1)\n",
    "\n",
    "'''\n",
    "list(map(parse, products) does 2 things.\n",
    "map() will create an object that can run parse for each product in products.\n",
    "list() will call the map object and run it, and returns a list of dict\n",
    "pandas can parse.\n",
    "pandas creates a csv so bestbuy's API doesn't need to be called again\n",
    "'''\n",
    "data = pd.DataFrame(list(map(parse, products)), columns=columns)\n",
    "data.to_csv(\"./bestbuy.csv\", index=False)"
   ]
  },
  {
   "cell_type": "markdown",
   "id": "8b55a033",
   "metadata": {},
   "source": [
    "There are many feature that make a laptop great. Build quality, trackpad quality, keyboard quality, etc. These are subjective and are difficult to determined (maybe with a survey). The two most important feature of a laptop is the performance and protability."
   ]
  },
  {
   "cell_type": "markdown",
   "id": "47ba61b2",
   "metadata": {},
   "source": [
    "Performance is determined by the cpu, gpu, ram, storage. ram and storage have little varience. For storage, if it's a ssd then it's fast enough for most people (unless the consumer is exporting 4k video). Laptop ram is very standardized. In 2019, the ram stick was usually ddr4 2666mhz cl19, In 2020-2021, ram stick was ddr4 3200mhz cl16, 2022 is ddr5. There are few laptop ram specs (not the case for desktop). The most important feature of ram is the capacity which in 2022 is usually 8 or 16 GB. Capacity doesn't affect preformance unless the laptop used all the ram. For normal use case, 8 GB is enough."
   ]
  },
  {
   "cell_type": "markdown",
   "id": "ced3f42d",
   "metadata": {},
   "source": [
    "There are many sku (term to label products) for cpus and gpus. around 1 and a half year intel/amd releases a new generation of cpus (currently intel is at 12th gen, amd is at 5000 series). Each generation there are 3 main series for laptops from both intel/amd; the intel core i3, i5, i7 and ryzen 3, 5, 7. There are cheaper skus such as intel's celeron and pentium and amd's Athlon. They are garbage and data will be presented later as to why."
   ]
  },
  {
   "cell_type": "markdown",
   "id": "f3deaaa6",
   "metadata": {},
   "source": [
    "Apple laptop are not analyzed. Apple customers buy apple laptops not because of performance (the new M1 does have insane preformance compare to intel/amd) but because it's Apple. They buy for the apple ecosystem or the brand. Apple has few skus at fix price points (unless sale). The consumer's decision making is simple. if they are an apple user and they have a set of requirements (they need to store atleast 500GB of data locally), they buy an apple laptop suitable for their needs."
   ]
  },
  {
   "cell_type": "markdown",
   "id": "f4d5a922",
   "metadata": {},
   "source": [
    "There are niche cpu producers like snapdragon or MediaTek. They are niche and have few benchmarks. This project ignores them."
   ]
  },
  {
   "cell_type": "markdown",
   "id": "30f5c697",
   "metadata": {},
   "source": [
    "laptop gpu skus are complicated and porrly advertised, except for high end gpus. Intel calls integrated gpus igpu, AMD calls cpu with gpu as APU, this project will call them igpu because discussion will be about the igpu's preformance and not the cpu. igpus are poorly label and has to be dealt with in data managment. Discrete gpus are processor not physically attach to a cpu. they are more powerful and better advertised thus easier to categorize."
   ]
  },
  {
   "cell_type": "markdown",
   "id": "034a3767",
   "metadata": {},
   "source": [
    "Benchmarks are standardized test that determine the processing speed of a cpu/gpu. 1 of the most common cpu benchmark is cinebench. Cinebench is choosen for it's popularity (lots of data) and it's the industry standard. Cinebench has 2 test single core and multicore. over simplified explaintion is some workloads are single threaded and can't use multiple cores. Some workloads are multithreaded and can use mutliple cores. Games used to be an example of single core workloads, where at a certain core count fps doesn't increase. This is slowly changing as more hardware has 8 cores (PS5 specifically) and game devs have to utilize all cores. It's difficult to determine if multicore is more important than single performance due to the various workloads, and how much more important is it. This project treats both benchmark with equal weight. "
   ]
  },
  {
   "cell_type": "markdown",
   "id": "c238b0f0",
   "metadata": {},
   "source": [
    "a common gaming GPU benchmark is 3dmarks. The 2 most popular is time spy and firestrike. The each benchmark has 3 metric: cpu, gpu, overall performance. This project will only look at gpu performance, since cinebench covers cpu performance and 3dmarks organizes categories by gpu, which means each result may have different cpu skus. There are other non-gaming GPU workloads like blender. Most people by laptops with discrete gpus (high-end gpus) for gaming."
   ]
  },
  {
   "cell_type": "markdown",
   "id": "6b6755a4",
   "metadata": {},
   "source": [
    "These benchmarks are avaliabe at notebookcheck.net"
   ]
  },
  {
   "cell_type": "code",
   "execution_count": 15,
   "id": "baf5ef15",
   "metadata": {
    "scrolled": true
   },
   "outputs": [],
   "source": [
    "#regex to parse a html tree and extract the benchmark described above\n",
    "tablePat = re.compile(r\"<table.*</table>\", flags=re.M|re.S)\n",
    "rowPat = re.compile(r\"<tr.*?</tr>\", flags=re.M|re.S|re.I)\n",
    "cellPat = re.compile(r\"<td.*?</td>\", flags=re.S|re.I)\n",
    "namePat = re.compile(r\"<a.*>(.+)</a>\")\n",
    "valPat = re.compile(r\"<span.*?(\\d+(\\.\\d+)?)</span>\")"
   ]
  },
  {
   "cell_type": "code",
   "execution_count": 16,
   "id": "26a3ba2e",
   "metadata": {},
   "outputs": [],
   "source": [
    "'''\n",
    "takes a html file, parses for values in columns.\n",
    "extracts the html table, tr(rows), td(cells) with tablePat, rowPat, cellPat respectivly\n",
    "cpu/gpu name is extracted with namePat\n",
    "benchmark is extract with valPat\n",
    "does this for all entries in the html table.\n",
    "'''\n",
    "def ParseNotebookcheck(html, columns):\n",
    "  Benchmarks = []\n",
    "  table = tablePat.search(html).group(0)\n",
    "  rows = rowPat.findall(table)\n",
    "  for row in rows:\n",
    "    cells = cellPat.findall(row)\n",
    "    dict1 = {}\n",
    "    #skip header rows and cpu/gpu with no name\n",
    "    name = namePat.search(cells[1])\n",
    "    if valPat.search(cells[0]) == None or name == None:\n",
    "      continue\n",
    "    dict1[columns[0]] = name.group(1)\n",
    "    for cell, col in zip(cells[2:], columns[1:]):\n",
    "      val = valPat.search(cell)\n",
    "      if val == None:\n",
    "        dict1[col] = np.nan\n",
    "      else:\n",
    "        dict1[col] = val.group(1)\n",
    "    #check if there is atleast 1 data exists\n",
    "    for col in columns[1:]:\n",
    "      if isinstance(dict1[col], str):\n",
    "        Benchmarks.append(dict1)\n",
    "        break\n",
    "  return Benchmarks"
   ]
  },
  {
   "cell_type": "markdown",
   "id": "05628b10",
   "metadata": {},
   "source": [
    "Save the benchmarks so program doesn't need to request from notebookcheck.net again"
   ]
  },
  {
   "cell_type": "code",
   "execution_count": 5,
   "id": "7a43c79e",
   "metadata": {},
   "outputs": [],
   "source": [
    "columns = (\"cpu\",\"r20Single\",\"r20Multi\",\"r23Single\",\"r23Multi\")\n",
    "res = requests.get(\"https://www.notebookcheck.net/Mobile-Processors-Benchmark-List.2436.0.html?type=&sort=&or=0&cinebench_r20_single=1&cinebench_r20_multi=1&cinebench_r23_single=1&cinebench_r23_multi=1&cpu_fullname=1\")\n",
    "data = pd.DataFrame(ParseNotebookcheck(res.text, columns), columns=columns)\n",
    "data.to_csv(\"cpuBenchmark.csv\", index=False)\n",
    "\n",
    "columns = (\"gpu\",\"FireStrike\",\"TimeSpy\")\n",
    "res = requests.get(\"https://www.notebookcheck.net/Mobile-Graphics-Cards-Benchmark-List.844.0.html?type=&sort=&multiplegpus=1&archive=1&or=0&3dmark13_fire_gpu=1&3dmark13_time_spy_gpu=1&gpu_fullname=1\")\n",
    "data = pd.DataFrame(ParseNotebookcheck(res.text, columns), columns=columns)\n",
    "data.to_csv(\"gpuBenchmark.csv\", index=False)"
   ]
  },
  {
   "cell_type": "markdown",
   "id": "a61ac7d4",
   "metadata": {},
   "source": [
    "# data management\n",
    "ram and storage are in GB, weight is in pounds"
   ]
  },
  {
   "cell_type": "code",
   "execution_count": 6,
   "id": "c55d41f7",
   "metadata": {},
   "outputs": [],
   "source": [
    "bestbuy2 = pd.read_csv(\"./bestbuy.csv\")"
   ]
  },
  {
   "cell_type": "code",
   "execution_count": 7,
   "id": "b394082d",
   "metadata": {},
   "outputs": [
    {
     "name": "stdout",
     "output_type": "stream",
     "text": [
      "Not provided\n",
      "1.1GHz quad-core i5\n",
      "Qualcomm Snapdragon\n",
      "MediaTek\n"
     ]
    }
   ],
   "source": [
    "print(bestbuy2.loc[28].cpuNum, bestbuy2.loc[82].cpuNum, bestbuy2.loc[54].cpu, bestbuy2.loc[24].cpu, sep=\"\\n\")"
   ]
  },
  {
   "cell_type": "markdown",
   "id": "78d59930",
   "metadata": {},
   "source": [
    "cpu model num that are \"Not provided\" or is just a generation and/or i/r series like \"1.1GHz quad-core i5\" are ignored. It's not possible to determine the cpu preformance with the information given.\n",
    "There are non intel and amd cpus, they are removed.\n",
    "cpu series are intel celeron, intel pentium, amd Athlon, intels i3, i5, i7, ryzen r3, r5, r7.\n",
    "Amd calls it's ryzen series as ryzen 3/5/7, this projects calls it r3/5/7\n",
    "generation are a number like the intel 12th gen or ryzen 5000 series."
   ]
  },
  {
   "cell_type": "markdown",
   "id": "cce8cfde",
   "metadata": {},
   "source": [
    "gpu series are intel HD Graphics, Intel Iris Xe Graphics, nvidia MX series, nvidias gtx and rtx series, AMD vega series.\n",
    "Nvidia quadro and A series exists, they are for very specialized workloads. buyer either knows and needs it or will never know about it."
   ]
  },
  {
   "cell_type": "code",
   "execution_count": 2,
   "id": "0a78bdd0",
   "metadata": {},
   "outputs": [],
   "source": [
    "bestbuy = pd.read_csv(\"./bestbuy.csv\")\n",
    "cpuBenchmark = pd.read_csv(\"./cpuBenchmark.csv\")\n",
    "gpuBenchmark = pd.read_csv(\"./gpuBenchmark.csv\")\n",
    "#extract the cpu num from cpu name\n",
    "cpuNumPat = re.compile(r\"(\\w{0,2}\\d{4,5}((HK|HX|HQ)|(\\w?\\d?)))\")\n",
    "#filter cpus, MT = MediaTek\n",
    "cpuFilterPat = re.compile(r\"(Apple.*)|(Not provided)|(MT)\", flags=re.I)\n",
    "#parse string to int\n",
    "getIntPat = re.compile(r\"(\\d+)\")\n",
    "#parse string to float\n",
    "getFloatPat = re.compile(r\"(\\d+(\\.\\d+)?)\")"
   ]
  },
  {
   "cell_type": "markdown",
   "id": "7f8fd5d1",
   "metadata": {},
   "source": [
    "## cleaning up bestbuy"
   ]
  },
  {
   "cell_type": "code",
   "execution_count": 3,
   "id": "d34dcffe",
   "metadata": {},
   "outputs": [],
   "source": [
    "#parsing cpu model number\n",
    "def parseCpuNum(df, col):\n",
    "  series = df[col].str.extract(cpuNumPat)\n",
    "  #only want the 1st group\n",
    "  series = series[0]\n",
    "  series[series.isnull()] = df[col][series.isnull()]\n",
    "  df[\"cpuNum\"] = series\n",
    "parseCpuNum(bestbuy, \"cpuNum\")\n",
    "#filter cpus\n",
    "bestbuy = bestbuy[bestbuy.cpuNum.str.match(cpuFilterPat) == False]\n",
    "\n",
    "#parsing storage, ram, weight values by stripping units and extracting int val\n",
    "def parseUnits(bestbuy, col, type1):\n",
    "  if type1 == int:\n",
    "    series = bestbuy[col].str.extract(getIntPat, expand=False)\n",
    "    #only want the 1st group\n",
    "  elif type1 == float:\n",
    "    series = bestbuy[col].str.extract(getFloatPat)\n",
    "    series = series[0]\n",
    "  bestbuy[col] = series.astype(type1)\n",
    "#strips the units bestbuy's api attaches to each entry\n",
    "parseUnits(bestbuy, \"ram\", int)\n",
    "parseUnits(bestbuy, \"storage\", int)\n",
    "parseUnits(bestbuy, \"weight\", float)"
   ]
  },
  {
   "cell_type": "code",
   "execution_count": 4,
   "id": "f411fe76",
   "metadata": {},
   "outputs": [],
   "source": [
    "'''\n",
    "Categorizing each entry with a series, if its not possible, it's set to NaN\n",
    "labelColors is used for graphing\n",
    "'''\n",
    "labels = (\"celeron\", \"pentium\", \"Athlon\", \"i3\", \"i5\", \"i7\", \"i9\", \"r3\", \"r5\", \"r7\", \"r9\")\n",
    "labelColors = (\"brown\",\"orange\",\"yellow\",\"green\",\"blue\",\"purple\",\"red\",\"black\",\"grey\",\"cyan\",\"magenta\")\n",
    "labelColors = dict((k,v) for k,v in zip(labels,labelColors))\n",
    "def createSeries(bestbuy):\n",
    "  name = \"cpuSeries\"\n",
    "  cpuSeries = (\"celeron\", \"pentium\", \"Athlon\", \"i3\", \"i5\", \"i7\", \"i9\", \"ryzen 3\", \"ryzen 5\", \"ryzen 7\", \"ryzen 9\")\n",
    "  bestbuy[name] = np.nan\n",
    "  \n",
    "  for series, label in zip(cpuSeries, labels):\n",
    "    bestbuy.loc[bestbuy.cpu.str.match(rf\"(.*{series}.*)\", flags=re.I) == True, name] = label\n",
    "createSeries(bestbuy)"
   ]
  },
  {
   "cell_type": "markdown",
   "id": "91933cc6",
   "metadata": {},
   "source": [
    "## cleaning up cpu benchmarks"
   ]
  },
  {
   "cell_type": "markdown",
   "id": "2c76d043",
   "metadata": {},
   "source": [
    "A cpu performance is determined by aggeragate the 4 benchmarks: cinebench's r20 Single core, r20 Multicore, r23 Singlecore, r23 Multicore.\n",
    "Each benchmarks uses a different scale. To normalize this, for each test, the max benchmark is divided for all entires. This results in a value between 0 and 1 inclusive."
   ]
  },
  {
   "cell_type": "markdown",
   "id": "ac033ac5",
   "metadata": {},
   "source": [
    "Some cpus are missing entires to either r20 or r23 score, but not either, those are removed from the dataset. Missing data is treated by making it not affect the cpu preformance index, but subsitiuting the current pref divided by the current amount of test. For example, the curr pref index for a cpu is 2 from 2 dif benchmarks. 3rd benchmark is missing. subsitute the missing data with 2(current pref) / 2(current amount of test) = 1. Add that value to the preformance which is now 3. Dividing by number of benchmarks the new pref index is 3 / 3 = 1, which is the same ratio as the old pref index of 2 / 2 = 1."
   ]
  },
  {
   "cell_type": "code",
   "execution_count": 5,
   "id": "8285423c",
   "metadata": {},
   "outputs": [],
   "source": [
    "parseCpuNum(cpuBenchmark, \"cpu\")\n",
    "#create aggeragate preformace index\n",
    "#normalize each numerical col so values are between [0, 1]\n",
    "def createPrefIdx(df):\n",
    "  pref = pd.Series([0 for _ in range(len(df.index))], dtype=float)\n",
    "  i = 0\n",
    "  for colName, colData in df.items():\n",
    "    if colData.dtype == int or colData.dtype == float:\n",
    "      i += 1\n",
    "      currPref = colData / colData.max()\n",
    "      #if missing data add current pref / i so it treats it as if nothing changed\n",
    "      currPref[currPref.isnull()] = pref[currPref.isnull()] / i\n",
    "      pref += currPref\n",
    "  df[\"pref\"] = pref\n",
    "createPrefIdx(cpuBenchmark)"
   ]
  },
  {
   "cell_type": "code",
   "execution_count": 6,
   "id": "8a9c9d43",
   "metadata": {},
   "outputs": [],
   "source": [
    "#add a cpu preformance col to bestbuy, adds cpu benchmark to this col\n",
    "def linkCpuPref(bestbuy, benchmark):\n",
    "  name = \"cpuPref\"\n",
    "  bestbuy[name] = np.nan\n",
    "  cpuFound = benchmark.loc[benchmark.cpuNum.isin(bestbuy.cpuNum)]\n",
    "\n",
    "  for i, cpu in cpuFound.iterrows():\n",
    "    bestbuy.loc[bestbuy.cpuNum == cpu.cpuNum, name] = cpu.pref\n",
    "linkCpuPref(bestbuy, cpuBenchmark)\n",
    "bestbuy = bestbuy[bestbuy.cpuPref.isnull() == False]"
   ]
  },
  {
   "cell_type": "markdown",
   "id": "8d63eec0",
   "metadata": {},
   "source": [
    "# More data management, visualization with analysis"
   ]
  },
  {
   "cell_type": "code",
   "execution_count": 7,
   "id": "4f5ed65a",
   "metadata": {
    "scrolled": false
   },
   "outputs": [
    {
     "data": {
      "image/png": "[encoded data removed]",
      "text/plain": [
       "<Figure size 1440x720 with 1 Axes>"
      ]
     },
     "metadata": {
      "needs_background": "light"
     },
     "output_type": "display_data"
    }
   ],
   "source": [
    "#scatter plot grouped by the cpu series\n",
    "cpuBySeries = bestbuy.groupby(\"cpuSeries\")\n",
    "for series, group in cpuBySeries:\n",
    "  plt.scatter(group.price, group.cpuPref, label=series, c=labelColors[series])\n",
    "#graph labels\n",
    "plt.xlabel(\"price\")\n",
    "plt.ylabel(\"cpu preformance\")\n",
    "plt.title(f\"price to cpu preformance\")\n",
    "plt.ylim(0)\n",
    "plt.xlim(0)\n",
    "plt.legend(loc=\"upper left\")\n",
    "plt.show()"
   ]
  },
  {
   "cell_type": "markdown",
   "id": "24677dce",
   "metadata": {},
   "source": [
    "As the points moves towards the top left corner, the better price to performance a laptop is. Generally, performance increase as the series number increase and so does the price, i3/r3 < i5/r5 < i7/r7. The reason why some cpus in the same series perform worse is due to their generation (newer cpu = faster)"
   ]
  },
  {
   "cell_type": "code",
   "execution_count": 8,
   "id": "5ba1951e",
   "metadata": {
    "scrolled": true
   },
   "outputs": [
    {
     "name": "stdout",
     "output_type": "stream",
     "text": [
      "cpu        Intel 12th Generation Core i7 Evo Platform\n",
      "cpuPref                                      3.677053\n",
      "Name: 241, dtype: object\n",
      "cpu        Intel 11th Generation Core i9\n",
      "cpuPref                         3.042126\n",
      "Name: 212, dtype: object\n",
      "cpu        Intel 11th Generation Core i7\n",
      "cpuPref                          2.08834\n",
      "Name: 22, dtype: object\n"
     ]
    }
   ],
   "source": [
    "print(bestbuy.loc[bestbuy.cpuPref.idxmax()][[\"cpu\", \"cpuPref\"]])\n",
    "print(bestbuy.loc[bestbuy[bestbuy.cpuSeries == \"i9\"].cpu.index[0]][[\"cpu\", \"cpuPref\"]])\n",
    "print(bestbuy.loc[bestbuy[bestbuy.cpuSeries == \"i7\"].cpu.index[0]][[\"cpu\", \"cpuPref\"]])"
   ]
  },
  {
   "cell_type": "markdown",
   "id": "5f5d9cf2",
   "metadata": {},
   "source": [
    "The best performing cpu is 12th gen, betting the i9 11th gen. However, the i9 11th gen beats the same generation i7 11th gen. "
   ]
  },
  {
   "cell_type": "code",
   "execution_count": 9,
   "id": "56fcfefe",
   "metadata": {},
   "outputs": [
    {
     "data": {
      "image/png": "[encoded data removed]",
      "text/plain": [
       "<Figure size 1440x720 with 1 Axes>"
      ]
     },
     "metadata": {
      "needs_background": "light"
     },
     "output_type": "display_data"
    }
   ],
   "source": [
    "#focus on sub $500 laptops\n",
    "cpuBySeries = bestbuy[bestbuy.price < 500].groupby(\"cpuSeries\")\n",
    "for series, group in cpuBySeries:\n",
    "  plt.scatter(group.price, group.cpuPref, label=series, c=labelColors[series])\n",
    "#graph labels\n",
    "plt.xlabel(\"price\")\n",
    "plt.ylabel(\"cpu preformance\")\n",
    "plt.title(f\"price to cpu preformance\")\n",
    "plt.ylim(0)\n",
    "plt.xlim(0)\n",
    "plt.legend(loc=\"upper left\")\n",
    "plt.show()"
   ]
  },
  {
   "cell_type": "markdown",
   "id": "609f2509",
   "metadata": {},
   "source": [
    "Looking at the sub \\\\$500 laptops, all of the celeron and pentium series are here. They are not worth the price at \\\\$300 or above, since similarly priced i3, i5, r3, r5 have better preformance at \\\\$300-\\\\$500 price range. There is 1 sub $300 r3 laptop."
   ]
  },
  {
   "cell_type": "code",
   "execution_count": 10,
   "id": "feedbfef",
   "metadata": {},
   "outputs": [
    {
     "data": {
      "text/plain": [
       "price                               249\n",
       "msrp                             429.99\n",
       "cpu             AMD Ryzen 3 3000 Series\n",
       "cpuNum                            3250U\n",
       "ram                                   8\n",
       "storage                             128\n",
       "gpu                          AMD Radeon\n",
       "screnSize                     14 inches\n",
       "Resolution              1366 x 768 (HD)\n",
       "os            Windows 11 Home in S Mode\n",
       "brand                                HP\n",
       "name                        14-fq0033dx\n",
       "weight                             3.24\n",
       "rating                              5.0\n",
       "ratingLen                           2.0\n",
       "cpuSeries                            r3\n",
       "cpuPref                        0.902505\n",
       "Name: 544, dtype: object"
      ]
     },
     "execution_count": 10,
     "metadata": {},
     "output_type": "execute_result"
    }
   ],
   "source": [
    "bestbuy.loc[bestbuy[bestbuy.cpuSeries == \"r3\"].price.idxmin()]"
   ]
  },
  {
   "cell_type": "markdown",
   "id": "d9b80b4f",
   "metadata": {},
   "source": [
    "There are some flaws with this laptop like 128GB of storage, windows s mode, and being 2 generations old. But it beats celerons and pentiums. So if budget is a concern, it is possible to wait for a deal like this one instead of buying a celeron."
   ]
  },
  {
   "cell_type": "code",
   "execution_count": 11,
   "id": "d7a36fdd",
   "metadata": {},
   "outputs": [
    {
     "data": {
      "image/png": "[encoded data removed]",
      "text/plain": [
       "<Figure size 1440x720 with 1 Axes>"
      ]
     },
     "metadata": {
      "needs_background": "light"
     },
     "output_type": "display_data"
    }
   ],
   "source": [
    "#focus on the OS of \n",
    "celeron = cpuBySeries.get_group(\"celeron\")\n",
    "for os, group in celeron.groupby(\"os\"):\n",
    "  if os == \"Chrome OS\":\n",
    "    plt.scatter(group.price, group.cpuPref, label=os, c=\"red\")\n",
    "  else:\n",
    "    plt.scatter(group.price, group.cpuPref, label=\"Windows\", c=\"blue\")\n",
    "celeron = cpuBySeries.get_group(\"pentium\")\n",
    "for os, group in celeron.groupby(\"os\"):\n",
    "  if os == \"Chrome OS\":\n",
    "    plt.scatter(group.price, group.cpuPref, label=os, c=\"red\")\n",
    "  else:\n",
    "    plt.scatter(group.price, group.cpuPref, label=\"Windows\", c=\"blue\")\n",
    "plt.xlabel(\"price\")\n",
    "plt.ylabel(\"cpu preformance\")\n",
    "plt.title(f\"price to cpu preformance\")\n",
    "plt.ylim(0)\n",
    "plt.xlim(0)\n",
    "plt.legend(loc=\"upper left\")\n",
    "plt.show()"
   ]
  },
  {
   "cell_type": "markdown",
   "id": "b16e7c9c",
   "metadata": {},
   "source": [
    "Around half of the OS is Chrome OS which indicates celeron and pentium are targeting low performance devices."
   ]
  },
  {
   "cell_type": "markdown",
   "id": "3ef06748",
   "metadata": {},
   "source": [
    "## GPU preformance\n",
    "GPU preformance differs to CPU in terms of their workload. CPU is for general computation like running the OS and various programs. GPU focuses on graphics and speicalized workloads that work well with parallel processing. From a general consumer point of view, the GPU determines how well a game runs on a computer, with faster GPU equaling more FPS."
   ]
  },
  {
   "cell_type": "markdown",
   "id": "a29d5d82",
   "metadata": {},
   "source": [
    "# Data Management  for GPU"
   ]
  },
  {
   "cell_type": "code",
   "execution_count": 12,
   "id": "a18df5e2",
   "metadata": {},
   "outputs": [],
   "source": [
    "#same as creating labels for cpu series\n",
    "gpuSeries = (\n",
    "  r\"Intel (hd) Graphics [^Xe]\", r\"Intel.*(xe) Graphics\", r\"Intel (UHD Graphics \\d+)\"\n",
    "  r\"NVIDIA GeForce (MX\\d{3})\",\n",
    "  r\"NVIDIA (GeForce [GR]TX \\d{3,4}M?(( Super)|( Ti)|( Max-Q))*)\",\n",
    "  r\"NVIDIA (Quadro ([GR]TX)? [a-z]?\\d{3,4}[a-z]?( Max-Q)?)\",\n",
    "  r\"(NVIDIA RTX A\\d000)\",\n",
    "  r\"(Vega \\d{1,2})\"\n",
    ")\n",
    "def createSeries(df, labels):\n",
    "  name = \"gpuSeries\"\n",
    "  df[name] = np.nan\n",
    "\n",
    "  for label in labels:\n",
    "    match = df.gpu.str.extract(rf\".*{label}.*\", flags=re.I, expand=False)\n",
    "    if isinstance(match, pd.DataFrame):\n",
    "      match = match[0]\n",
    "    boolList = (match.isnull() == False)\n",
    "    df.loc[boolList, name] = match[boolList]\n",
    "createSeries(bestbuy, gpuSeries)\n",
    "createSeries(gpuBenchmark, gpuSeries)"
   ]
  },
  {
   "cell_type": "code",
   "execution_count": 13,
   "id": "f96f6876",
   "metadata": {},
   "outputs": [
    {
     "name": "stdout",
     "output_type": "stream",
     "text": [
      "{'AMD Ryzen 7 Microsoft Surface Edition', 'AMD Ryzen 7 3000 Series', 'AMD Ryzen 3 3000 Series', 'AMD Ryzen 5 Microsoft Surface Edition', 'AMD Ryzen 5 3000 Series'}\n"
     ]
    }
   ],
   "source": [
    "print(set(bestbuy.loc[bestbuy.gpu.str.match(r\".*(Vega \\d{1,2}).*\", flags=re.I) == True].cpu))"
   ]
  },
  {
   "cell_type": "markdown",
   "id": "5ea0ac3b",
   "metadata": {},
   "source": [
    "There are only 3000 series and microsoft edition that are labelled with Vega graphics by bestbuy's API. AMD Vega pref changes between cpu generations thus only 3000 series vega are used since that is the only generation known."
   ]
  },
  {
   "cell_type": "code",
   "execution_count": 14,
   "id": "89b2ceed",
   "metadata": {},
   "outputs": [],
   "source": [
    "gpuBenchmark.loc[gpuBenchmark.gpu.str.match(r\".*Vega \\d{1,2}.*Ryzen [45]000.*\") == True, \"gpuSeries\"] = np.nan"
   ]
  },
  {
   "cell_type": "code",
   "execution_count": 15,
   "id": "5f80338a",
   "metadata": {},
   "outputs": [],
   "source": [
    "#same formula as cpu\n",
    "createPrefIdx(gpuBenchmark)\n",
    "#add gpu and overall(cpu + gpu) preformance\n",
    "def linkPref(bestbuy, gpuBenchmark):\n",
    "  name = \"gpuPref\"\n",
    "  name2 = \"pref\"\n",
    "  bestbuy[name] = np.nan\n",
    "  bestbuy[name2] = bestbuy.cpuPref\n",
    "  gpuFound = gpuBenchmark.loc[\n",
    "    gpuBenchmark.gpuSeries.isin(\n",
    "      bestbuy[bestbuy.gpuSeries.isnull() == False].gpuSeries\n",
    "    )\n",
    "  ]\n",
    "  for i, gpu in gpuFound.iterrows():\n",
    "    boolList = (bestbuy.gpuSeries == gpu.gpuSeries)\n",
    "    bestbuy.loc[boolList, name] = gpu.pref\n",
    "    bestbuy.loc[boolList, name2] += gpu.pref\n",
    "linkPref(bestbuy, gpuBenchmark)"
   ]
  },
  {
   "cell_type": "markdown",
   "id": "25d9d409",
   "metadata": {},
   "source": [
    "There is a lack of benchmarks for intels HD igpus. Their performance is only good enough to run general browsering like youtube videos. The underpower graphics and age of the product results in a lack of benchmarks for HD igpus."
   ]
  },
  {
   "cell_type": "code",
   "execution_count": 16,
   "id": "36e64999",
   "metadata": {
    "scrolled": true
   },
   "outputs": [
    {
     "name": "stdout",
     "output_type": "stream",
     "text": [
      "Intel Iris Xe Graphics\n",
      "Intel HD Graphics 4400\n",
      "Intel HD Graphics 5000\n",
      "Intel HD Graphics 5500\n"
     ]
    }
   ],
   "source": [
    "for series in (\"Xe\", \"HD\"):\n",
    "  bestbuyHD = set(bestbuy[bestbuy.gpuSeries == series].gpu)\n",
    "  gpuBenchmarkHD = set(gpuBenchmark[gpuBenchmark.gpuSeries == series].gpu)\n",
    "\n",
    "  for gpu in bestbuyHD:\n",
    "    if gpu not in gpuBenchmarkHD:\n",
    "      print(gpu)"
   ]
  },
  {
   "cell_type": "markdown",
   "id": "aa1f6f7a",
   "metadata": {},
   "source": [
    "These are the missing igpu skus that can't be found in the gpu benchmarks."
   ]
  },
  {
   "cell_type": "code",
   "execution_count": 17,
   "id": "5c75de2e",
   "metadata": {},
   "outputs": [
    {
     "name": "stdout",
     "output_type": "stream",
     "text": [
      "{'Intel Iris Xe Graphics'}\n",
      "                                 gpu      pref\n",
      "94   Intel Iris Xe Graphics G7 96EUs  0.273859\n",
      "109  Intel Iris Xe Graphics G7 80EUs  0.190991\n"
     ]
    }
   ],
   "source": [
    "print(set(bestbuy[bestbuy.gpuSeries == \"Xe\"].gpu))\n",
    "print(gpuBenchmark[gpuBenchmark.gpuSeries == \"Xe\"][[\"gpu\", \"pref\"]])"
   ]
  },
  {
   "cell_type": "markdown",
   "id": "737aa955",
   "metadata": {},
   "source": [
    "Intel's Xe graphics are poorly labelled by their execution units (EUs). The average of these 2 benchmark is used to approximate a cpu with \"Intel Iris Xe Graphics\"."
   ]
  },
  {
   "cell_type": "code",
   "execution_count": 18,
   "id": "7d1b6c49",
   "metadata": {},
   "outputs": [],
   "source": [
    "#get all gpu benhcmarks for Xe and HD, then averaging their pref\n",
    "gpuBySeries = gpuBenchmark.groupby(\"gpuSeries\")\n",
    "for series in (\"Xe\", \"HD\"):\n",
    "  group = gpuBySeries.get_group(series)\n",
    "  gpuBenchmark.loc[group.index, \"pref\"] = group.pref.mean()"
   ]
  },
  {
   "cell_type": "markdown",
   "id": "668b5afd",
   "metadata": {},
   "source": [
    "# visualization with analysis"
   ]
  },
  {
   "cell_type": "code",
   "execution_count": 20,
   "id": "25949745",
   "metadata": {},
   "outputs": [
    {
     "data": {
      "image/png": "[encoded data removed]",
      "text/plain": [
       "<Figure size 1440x720 with 1 Axes>"
      ]
     },
     "metadata": {
      "needs_background": "light"
     },
     "output_type": "display_data"
    }
   ],
   "source": [
    "for series, group in cpuBySeries:\n",
    "  plt.scatter(group.price, group.gpuPref, label=series, c=labelColors[series])\n",
    "#graph labels\n",
    "plt.xlabel(\"price\")\n",
    "plt.ylabel(\"gpu preformance\")\n",
    "plt.title(f\"price to gpu preformance\")\n",
    "plt.ylim(0)\n",
    "plt.xlim(0)\n",
    "plt.legend(loc=\"upper left\")\n",
    "plt.show()"
   ]
  },
  {
   "cell_type": "markdown",
   "id": "696be179",
   "metadata": {},
   "source": [
    "For most \\\\$1000 or more laptops, most of the cost is in the gpu as there is a huge increase in GPU preformance for most of them."
   ]
  },
  {
   "cell_type": "code",
   "execution_count": 28,
   "id": "fd4948b4",
   "metadata": {},
   "outputs": [
    {
     "name": "stdout",
     "output_type": "stream",
     "text": [
      "price                    3999\n",
      "cpuNum                 11850H\n",
      "gpuSeries    NVIDIA RTX A4000\n",
      "pref                 4.385154\n",
      "Name: 354, dtype: object\n",
      "price                    2399\n",
      "cpuNum                 11800H\n",
      "gpuSeries    GeForce RTX 3080\n",
      "pref                 4.597748\n",
      "Name: 29, dtype: object\n"
     ]
    }
   ],
   "source": [
    "print(bestbuy.loc[bestbuy.price.idxmax()][[\"price\",\"cpuNum\",\"gpuSeries\",\"pref\"]])\n",
    "print(bestbuy.loc[bestbuy.gpuPref.idxmax()][[\"price\",\"cpuNum\",\"gpuSeries\",\"pref\"]])"
   ]
  },
  {
   "cell_type": "markdown",
   "id": "772ef3cf",
   "metadata": {},
   "source": [
    "The \\\\$4000 laptop preformed worse than the \\\\$2400 is due to the different workload a RTX A4000 is designed for. A4000 can be used for gaming; athough it was desgined for professional work loads like Blender. The benchmarks used for GPU were for gaming and not representitve of A4000 actually value."
   ]
  },
  {
   "cell_type": "markdown",
   "id": "ac822f7b",
   "metadata": {},
   "source": [
    "A polynomial regression will be used to predict the overall performance of a laptop based on price since prices increases faster than preformance does. This is because customers spending \\\\$1k or more on their laptop have more disposable income and thus are willing to pay more."
   ]
  },
  {
   "cell_type": "code",
   "execution_count": 66,
   "id": "a8a1a82a",
   "metadata": {},
   "outputs": [
    {
     "data": {
      "image/png": "[encoded data removed]",
      "text/plain": [
       "<Figure size 1440x720 with 1 Axes>"
      ]
     },
     "metadata": {
      "needs_background": "light"
     },
     "output_type": "display_data"
    }
   ],
   "source": [
    "#transforming inputs and outputs into a polynomial inputs and ouputs of degree 2\n",
    "from sklearn.preprocessing import PolynomialFeatures\n",
    "poly = PolynomialFeatures(degree=2, include_bias=False)\n",
    "poly_x = poly.fit_transform(np.array(bestbuy.price).reshape(-1,1))\n",
    "poly_y = poly.fit_transform(np.array(bestbuy.pref).reshape(-1,1))\n",
    "\n",
    "linReg2 = LinearRegression()\n",
    "linReg2.fit(poly_x, poly_y)\n",
    "\n",
    "for series, group in cpuBySeries:\n",
    "  plt.scatter(group.price, group.pref, label=series, c=labelColors[series])\n",
    "\n",
    "plt.plot(pricepoints, linReg2.predict(poly.fit_transform(pricepoints))[:,0])\n",
    "#graph labels\n",
    "plt.xlabel(\"price\")\n",
    "plt.ylabel(\"overall preformance\")\n",
    "plt.title(f\"price to overall preformance\")\n",
    "plt.ylim(0)\n",
    "plt.xlim(0)\n",
    "plt.legend(loc=\"upper left\")\n",
    "plt.show()\n",
    "\n",
    "# linReg = LinearRegression()\n",
    "# linReg.fit(np.array(bestbuy.price).reshape(-1,1), bestbuy.pref)\n",
    "# pricepoints = np.linspace(0, bestbuy.price.max(), len(bestbuy)).reshape(-1,1)\n",
    "\n",
    "# for series, group in cpuBySeries:\n",
    "#   plt.scatter(group.price, group.pref, label=series, c=labelColors[series])\n",
    "\n",
    "# plt.plot(pricepoints, linReg.predict(pricepoints))\n",
    "# #graph labels\n",
    "# plt.xlabel(\"price\")\n",
    "# plt.ylabel(\"overall preformance\")\n",
    "# plt.title(f\"price to overall preformance\")\n",
    "# plt.ylim(0)\n",
    "# plt.xlim(0)\n",
    "# plt.legend(loc=\"upper left\")\n",
    "# plt.show()"
   ]
  },
  {
   "cell_type": "markdown",
   "id": "5d7e4ac5",
   "metadata": {},
   "source": [
    "The preformance decreases around \\\\$3000 because of the previously mention professional GPU (RTX A4000) are not designed for gaming."
   ]
  },
  {
   "cell_type": "markdown",
   "id": "73cda27f",
   "metadata": {},
   "source": [
    "## hypothesis testing"
   ]
  },
  {
   "cell_type": "code",
   "execution_count": 65,
   "id": "abd41137",
   "metadata": {},
   "outputs": [
    {
     "name": "stdout",
     "output_type": "stream",
     "text": [
      "                                 OLS Regression Results                                \n",
      "=======================================================================================\n",
      "Dep. Variable:                  price   R-squared (uncentered):                   1.000\n",
      "Model:                            OLS   Adj. R-squared (uncentered):              1.000\n",
      "Method:                 Least Squares   F-statistic:                          1.348e+34\n",
      "Date:                Mon, 16 May 2022   Prob (F-statistic):                        0.00\n",
      "Time:                        15:01:46   Log-Likelihood:                          17974.\n",
      "No. Observations:                 647   AIC:                                 -3.594e+04\n",
      "Df Residuals:                     645   BIC:                                 -3.594e+04\n",
      "Df Model:                           2                                                  \n",
      "Covariance Type:            nonrobust                                                  \n",
      "==============================================================================\n",
      "                 coef    std err          t      P>|t|      [0.025      0.975]\n",
      "------------------------------------------------------------------------------\n",
      "x1             1.0000    1.6e-17   6.27e+16      0.000       1.000       1.000\n",
      "x2          4.606e-20    7.7e-21      5.979      0.000    3.09e-20    6.12e-20\n",
      "==============================================================================\n",
      "Omnibus:                       91.550   Durbin-Watson:                   0.346\n",
      "Prob(Omnibus):                  0.000   Jarque-Bera (JB):              135.693\n",
      "Skew:                           0.961   Prob(JB):                     3.42e-30\n",
      "Kurtosis:                       4.157   Cond. No.                     5.43e+03\n",
      "==============================================================================\n",
      "\n",
      "Notes:\n",
      "[1] R² is computed without centering (uncentered) since the model does not contain a constant.\n",
      "[2] Standard Errors assume that the covariance matrix of the errors is correctly specified.\n",
      "[3] The condition number is large, 5.43e+03. This might indicate that there are\n",
      "strong multicollinearity or other numerical problems.\n"
     ]
    }
   ],
   "source": [
    "# x2 = sm.add_constant(poly.fit_transform(pricepoints))\n",
    "mod = sm.OLS(bestbuy.price, poly_x).fit()\n",
    "print(mod.summary())\n",
    "\n",
    "# x2 = sm.add_constant(pricepoints)\n",
    "# mod = sm.OLS(bestbuy.pref, x2)\n",
    "# fii = mod.fit()\n",
    "# p_values = fii.summary2().tables[1]['P>|t|']\n",
    "# # print(p_values)\n",
    "# print(fii.summary())"
   ]
  },
  {
   "cell_type": "markdown",
   "id": "5a9b73b6",
   "metadata": {},
   "source": [
    "F-statistic is greater than 0 and Prob (F-statistic) equals 0, which means price is related to the performance. The p-value for both variable is 0, thus the null hypothesis of no relation is reject. It is concerning R^2 equals 1 when the regression clearly doesn't fit all the data points. Not sure why statsmodels reported that value."
   ]
  },
  {
   "cell_type": "markdown",
   "id": "e7af9fff",
   "metadata": {},
   "source": [
    "# insights and conclusions\n",
    "Laptops have large variantions of features. Just analyzing the performance of a laptop shows there is a large variation in performance at a price point. The figure with the polynomial regression can eliminate poor performing laptops. If the performance of a laptop is under the line, the laptop is below average in terms of performance and shouldn't be bought. If the laptop's performance is above the regression it's still difficult to determine if it's worth buying as there is other factors (such as weight) that are not included."
   ]
  },
  {
   "cell_type": "code",
   "execution_count": null,
   "id": "7b0e681a",
   "metadata": {},
   "outputs": [],
   "source": []
  }
 ],
 "metadata": {
  "kernelspec": {
   "display_name": "Python 3 (ipykernel)",
   "language": "python",
   "name": "python3"
  },
  "language_info": {
   "codemirror_mode": {
    "name": "ipython",
    "version": 3
   },
   "file_extension": ".py",
   "mimetype": "text/x-python",
   "name": "python",
   "nbconvert_exporter": "python",
   "pygments_lexer": "ipython3",
   "version": "3.8.10"
  }
 },
 "nbformat": 4,
 "nbformat_minor": 5
}
